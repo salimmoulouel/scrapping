{
 "cells": [
  {
   "cell_type": "markdown",
   "metadata": {},
   "source": [
    "## Scrapper de seloger.com"
   ]
  },
  {
   "cell_type": "code",
   "execution_count": 1,
   "metadata": {},
   "outputs": [],
   "source": [
    "\n",
    "import json\n",
    "import time\n",
    "\n",
    "\n",
    "import requests\n",
    "\n",
    "from selenium import webdriver\n",
    "from selenium.common.exceptions import NoSuchElementException\n",
    "from selenium.common.exceptions import TimeoutException\n",
    "from selenium.webdriver.support.ui import WebDriverWait\n",
    "from selenium.webdriver.support import expected_conditions as EC\n",
    "from selenium.webdriver.common.by import By\n",
    "from selenium.webdriver.chrome.options import Options\n",
    "\n",
    "\n",
    "\n",
    "import random\n",
    "\n",
    "from selenium.webdriver.common.keys import Keys\n",
    "\n",
    "import time\n",
    "\n",
    "import re"
   ]
  },
  {
   "cell_type": "markdown",
   "metadata": {},
   "source": [
    "###  Chargement du Navigateur"
   ]
  },
  {
   "cell_type": "code",
   "execution_count": 2,
   "metadata": {},
   "outputs": [],
   "source": [
    "options = webdriver.ChromeOptions()\n",
    "\n",
    "options.add_argument('--disable-blink-features=AutomationControlled')\n",
    "options.add_argument(\"window-size=1920,1080\")\n",
    "driver = webdriver.Chrome('/home/moulouel/drivers/chromedriver', options=options)\n",
    "\n",
    "\n",
    "driver.delete_all_cookies()\n",
    "\n"
   ]
  },
  {
   "cell_type": "code",
   "execution_count": 3,
   "metadata": {},
   "outputs": [],
   "source": [
    "driver.get(\"http://www.seloger.com\")"
   ]
  },
  {
   "cell_type": "markdown",
   "metadata": {},
   "source": [
    "## Choisir la location "
   ]
  },
  {
   "cell_type": "code",
   "execution_count": 7,
   "metadata": {},
   "outputs": [],
   "source": [
    "type_achat=driver.find_element_by_xpath(\"//label[contains(text(),'Louer')]\")\n",
    "type_achat.click()\n",
    "time.sleep(random.randint(3,10))"
   ]
  },
  {
   "cell_type": "markdown",
   "metadata": {},
   "source": [
    "### Barre de recherche villes pour mettre France"
   ]
  },
  {
   "cell_type": "code",
   "execution_count": 4,
   "metadata": {},
   "outputs": [],
   "source": [
    "location_form=driver.find_element_by_xpath(\"//input[@id='agatha_autocomplete_autocompleteUI__input']\")\n",
    "\n",
    "location_form.send_keys(\"France\")\n",
    "\n",
    "\n"
   ]
  },
  {
   "cell_type": "code",
   "execution_count": 5,
   "metadata": {},
   "outputs": [],
   "source": [
    "time.sleep(5)\n",
    "location_form.send_keys(Keys.RETURN);"
   ]
  },
  {
   "cell_type": "markdown",
   "metadata": {},
   "source": [
    "## Simulation comportement humain avec temps de lecture pour cliquer sur rechercher"
   ]
  },
  {
   "cell_type": "code",
   "execution_count": 6,
   "metadata": {},
   "outputs": [],
   "source": [
    "time.sleep(random.randint(3,10))"
   ]
  },
  {
   "cell_type": "markdown",
   "metadata": {},
   "source": [
    "## Click sur le bouton de recherche"
   ]
  },
  {
   "cell_type": "code",
   "execution_count": 8,
   "metadata": {},
   "outputs": [],
   "source": [
    "#Mettre sleep\n",
    "search_bar=driver.find_element_by_xpath(\"//a[contains(text(),'Rechercher')]\")\n",
    "\n",
    "search_bar.click()"
   ]
  },
  {
   "cell_type": "markdown",
   "metadata": {},
   "source": [
    "## On tombe sur la page des annonces"
   ]
  },
  {
   "cell_type": "code",
   "execution_count": 39,
   "metadata": {
    "scrolled": true
   },
   "outputs": [],
   "source": [
    "annonces=driver.find_elements_by_xpath(\"//div[@data-test='sl.card-container']\")\n"
   ]
  },
  {
   "cell_type": "markdown",
   "metadata": {},
   "source": [
    "## On ouvre toutes les annonces de seloger de la page dans de nouveau onglets"
   ]
  },
  {
   "cell_type": "code",
   "execution_count": 335,
   "metadata": {},
   "outputs": [
    {
     "name": "stdout",
     "output_type": "stream",
     "text": [
      "<selenium.webdriver.remote.webelement.WebElement (session=\"3be8d18370d60e153b4f4880ac936080\", element=\"6f1fcf84-7446-479e-85f8-4d0d70e05370\")>\n"
     ]
    }
   ],
   "source": [
    "seloger_part=re.compile(\"www\\.seloger\\.\")\n",
    "    \n",
    "for annonce in annonces[1:3]:   \n",
    "    lien_annonce=annonce.find_element_by_xpath(\".//a[@name='classified-link']\")\n",
    "    a=seloger_part.findall(lien_annonce.get_attribute(\"href\"))\n",
    "    if(len(a)>0):\n",
    "        print(lien_annonce)\n",
    "        time.sleep(random.randint(20,60))\n",
    "        webdriver.ActionChains(driver).move_to_element(lien_annonce).perform()\n",
    "        lien_annonce.click()    \n",
    "    "
   ]
  },
  {
   "cell_type": "markdown",
   "metadata": {},
   "source": [
    "## On scrappe les informations"
   ]
  },
  {
   "cell_type": "code",
   "execution_count": 336,
   "metadata": {},
   "outputs": [],
   "source": [
    "bien={}"
   ]
  },
  {
   "cell_type": "code",
   "execution_count": 343,
   "metadata": {
    "scrolled": true
   },
   "outputs": [
    {
     "name": "stderr",
     "output_type": "stream",
     "text": [
      "/home/moulouel/anaconda3/envs/BigDataEnv/lib/python3.7/site-packages/ipykernel_launcher.py:2: DeprecationWarning: use driver.switch_to.window instead\n",
      "  \n"
     ]
    }
   ],
   "source": [
    "for onglet in driver.window_handles[1:]:\n",
    "    driver.switch_to_window(onglet)\n",
    "    time.sleep(random.randint(0,10))\n",
    "    #on recupere le numero te telephone\n",
    "    affiche_num=driver.find_element_by_xpath(\"//button[contains(text(),'Affichez le numéro')]\")\n",
    "    webdriver.ActionChains(driver).move_to_element(affiche_num).perform()\n",
    "    affiche_num.click()\n",
    "    time.sleep(random.randint(0,10))\n",
    "    telephone=driver.find_element_by_xpath(\"//a[contains(@href,'tel:')]\").get_attribute(\"href\")\n",
    "    bien['telephone']=telephone.split(':')[1]\n",
    "    #on recupere l'agence qui fournit le bien\n",
    "    agence_block=driver.find_element_by_xpath(\"//div[@data-test='side-agency-block']\")\n",
    "    bien['agence']=agence_block.find_element_by_xpath(\".//h3\").text\n",
    "    \n",
    "    #on recupere le type de bien et le quartier et la ville\n",
    "    infos_bien=driver.find_element_by_xpath(\"//div[contains(@class,'Summarystyled__Title')]\")\n",
    "\n",
    "\n",
    "    separators=re.compile('\\n|,\\s')\n",
    "\n",
    "    type_bien=re.split(separators,infos_bien.text)\n",
    "    bien['type_bien']=type_bien[0]\n",
    "\n",
    "    #    bien['quartier']=data_location[1]\n",
    "\n",
    "    #    bien['ville']=data_location[2]\n",
    "\n",
    "    other_infos=infos_bien.find_elements_by_xpath(\".//following-sibling::*\")\n",
    "    prix_div=driver.find_element_by_xpath(\"//div[contains(text(),'Le loyer mensuel est de')]\")\n",
    "    charges_div=prix_div.find_elements_by_xpath(\".//following-sibling::*\")[1]\n",
    "    localisation_div=driver.find_elements_by_xpath(\"//p[contains(text(),'Le bien')]\")\n",
    "\n",
    "\n",
    "\n",
    "    piece=re.compile('\\d+ pièce')\n",
    "    chambre=re.compile('\\d+ chambre')\n",
    "    surface=re.compile('\\d+\\,?\\d*m²')\n",
    "    price=re.compile(\"\\d+\\,?\\d*(?= €)\")\n",
    "    charges=re.compile(\"\\d+\\,?\\d*(?= €)\")\n",
    "    code_postale_pattern=re.compile(\"\\d{5}\")\n",
    "    quartier_pattern=re.compile(\"quartier.*\")\n",
    "\n",
    "    for info in other_infos:\n",
    "\n",
    "        #print(i.text)\n",
    "    #    print(i.text)\n",
    "        #print(re.search(piece,i.text))\n",
    "\n",
    "        if(piece.findall(info.text)):\n",
    "            bien['pieces']=piece.findall(info.text)[0]\n",
    "        if(chambre.findall(info.text)):\n",
    "            bien['chambres']=chambre.findall(info.text)[0]\n",
    "        if(surface.findall(info.text)):\n",
    "            bien['surface']=surface.findall(info.text)[0]\n",
    "\n",
    "        if(price.findall(prix_div.text)):\n",
    "            bien['prix']=price.findall(prix_div.text)[0]\n",
    "        if(charges.findall(prix_div.text)):\n",
    "            bien['charges']=charges.findall(charges_div.text)[0]\n",
    "        if(code_postale_pattern.findall(localisation_div[0].text)):\n",
    "            bien['zip_code']=code_postale_pattern.findall(localisation_div[0].text)[0]\n",
    "        if(quartier_pattern.findall(localisation_div[0].text)):\n",
    "            bien['quartier']=quartier_pattern.findall(localisation_div[0].text)[0]\n",
    "    reference_annonce=driver.find_element_by_xpath(\"//div[contains(text(),'Réf. annonce')]\")\n",
    "    bien['reference_annonce']=reference_annonce.text.split(':')[1].strip()\n",
    "\n"
   ]
  },
  {
   "cell_type": "code",
   "execution_count": 344,
   "metadata": {},
   "outputs": [
    {
     "data": {
      "text/plain": [
       "{'telephone': '0496125172',\n",
       " 'agence': 'AGENCE IMMOBILIERE DES TANNEURS',\n",
       " 'type_bien': 'Appartement',\n",
       " 'prix': '530',\n",
       " 'charges': '30',\n",
       " 'zip_code': '13005',\n",
       " 'quartier': 'quartier Le Camas.',\n",
       " 'pieces': '1 pièce',\n",
       " 'surface': '21,5m²',\n",
       " 'reference_annonce': 'L000435'}"
      ]
     },
     "execution_count": 344,
     "metadata": {},
     "output_type": "execute_result"
    }
   ],
   "source": [
    "bien"
   ]
  }
 ],
 "metadata": {
  "kernelspec": {
   "display_name": "Python 3",
   "language": "python",
   "name": "python3"
  },
  "language_info": {
   "codemirror_mode": {
    "name": "ipython",
    "version": 3
   },
   "file_extension": ".py",
   "mimetype": "text/x-python",
   "name": "python",
   "nbconvert_exporter": "python",
   "pygments_lexer": "ipython3",
   "version": "3.7.0"
  }
 },
 "nbformat": 4,
 "nbformat_minor": 4
}
